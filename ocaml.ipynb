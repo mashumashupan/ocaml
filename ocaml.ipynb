{
 "cells": [
  {
   "cell_type": "code",
   "execution_count": 18,
   "metadata": {
    "vscode": {
     "languageId": "ocaml"
    }
   },
   "outputs": [
    {
     "data": {
      "text/plain": [
       "val add_to_each : 'a -> 'a list list -> 'a list list = <fun>\n"
      ]
     },
     "execution_count": 18,
     "metadata": {},
     "output_type": "execute_result"
    },
    {
     "data": {
      "text/plain": [
       "val test1 : int list list = []\n"
      ]
     },
     "execution_count": 18,
     "metadata": {},
     "output_type": "execute_result"
    },
    {
     "data": {
      "text/plain": [
       "val test2 : int list list = [[1; 2]]\n"
      ]
     },
     "execution_count": 18,
     "metadata": {},
     "output_type": "execute_result"
    },
    {
     "data": {
      "text/plain": [
       "val test3 : int list list = [[1; 2]; [1; 2; 3]]\n"
      ]
     },
     "execution_count": 18,
     "metadata": {},
     "output_type": "execute_result"
    },
    {
     "data": {
      "text/plain": [
       "val prefix : 'a list -> 'a list list = <fun>\n"
      ]
     },
     "execution_count": 18,
     "metadata": {},
     "output_type": "execute_result"
    },
    {
     "data": {
      "text/plain": [
       "val test5 : 'a list list = []\n"
      ]
     },
     "execution_count": 18,
     "metadata": {},
     "output_type": "execute_result"
    },
    {
     "data": {
      "text/plain": [
       "val test6 : int list list = [[2]]\n"
      ]
     },
     "execution_count": 18,
     "metadata": {},
     "output_type": "execute_result"
    },
    {
     "data": {
      "text/plain": [
       "val test7 : int list list = [[2]; [2; 3]]\n"
      ]
     },
     "execution_count": 18,
     "metadata": {},
     "output_type": "execute_result"
    }
   ],
   "source": [
    "let rec add_to_each n lst = match lst with\n",
    "    [] -> []\n",
    "  | first :: rest -> (n :: first):: add_to_each n rest\n",
    "\n",
    "let test1 = add_to_each 1 []\n",
    "let test2 = add_to_each 1 [[2]]\n",
    "let test3 = add_to_each 1 [[2]; [2; 3]]\n",
    "\n",
    "let rec prefix lst = match lst with\n",
    "    [] -> []\n",
    "  | first :: rest -> [first] :: add_to_each first(prefix rest)\n",
    "\n",
    "let test5 = prefix []\n",
    "let test6 = prefix [2]\n",
    "let test7 = prefix [2; 3]\n"
   ]
  }
 ],
 "metadata": {
  "kernelspec": {
   "display_name": "OCaml 4.12.0",
   "language": "OCaml",
   "name": "ocaml-jupyter-4.12.0"
  },
  "language_info": {
   "codemirror_mode": "text/x-ocaml",
   "file_extension": ".ml",
   "mimetype": "text/x-ocaml",
   "name": "OCaml",
   "nbconverter_exporter": null,
   "pygments_lexer": "OCaml",
   "version": "4.12.0"
  },
  "orig_nbformat": 4,
  "vscode": {
   "interpreter": {
    "hash": "31f2aee4e71d21fbe5cf8b01ff0e069b9275f58929596ceb00d14d90e3e16cd6"
   }
  }
 },
 "nbformat": 4,
 "nbformat_minor": 2
}
